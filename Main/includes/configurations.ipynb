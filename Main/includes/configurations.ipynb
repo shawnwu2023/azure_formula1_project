{
 "cells": [
  {
   "cell_type": "code",
   "execution_count": 0,
   "metadata": {
    "application/vnd.databricks.v1+cell": {
     "cellMetadata": {},
     "inputWidgets": {},
     "nuid": "027cb1d0-274f-434b-b202-4ae7559b6efc",
     "showTitle": false,
     "tableResultSettingsMap": {},
     "title": ""
    }
   },
   "outputs": [],
   "source": [
    "raw_folder_path = 'abfss://raw@formula1project2025.dfs.core.windows.net'\n",
    "processed_folder_path = 'abfss://processed@formula1project2025.dfs.core.windows.net'\n",
    "presentation_folder_path = 'abfss://presentation@formula1project2025.dfs.core.windows.net'"
   ]
  }
 ],
 "metadata": {
  "application/vnd.databricks.v1+notebook": {
   "computePreferences": null,
   "dashboards": [],
   "environmentMetadata": {
    "base_environment": "",
    "client": "1"
   },
   "language": "python",
   "notebookMetadata": {
    "pythonIndentUnit": 4
   },
   "notebookName": "configurations",
   "widgets": {}
  },
  "language_info": {
   "name": "python"
  }
 },
 "nbformat": 4,
 "nbformat_minor": 0
}
